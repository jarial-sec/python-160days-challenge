{
 "cells": [
  {
   "cell_type": "markdown",
   "metadata": {},
   "source": [
    "Given an array of positive integers arr[], return the second largest element from the array. If the second largest element doesn't exist then return -1.\n",
    "\n",
    "Note: The second largest element should not be equal to the largest element."
   ]
  },
  {
   "cell_type": "markdown",
   "metadata": {},
   "source": [
    "Input: arr[] = [12, 35, 1, 10, 34, 1]\n",
    "Output: 34\n",
    "Explanation: The largest element of the array is 35 and the second largest element is 34."
   ]
  },
  {
   "cell_type": "markdown",
   "metadata": {},
   "source": [
    "Input: arr[] = [10, 10, 10]\n",
    "Output: -1\n",
    "Explanation: The largest element of the array is 10 and the second largest element does not exist."
   ]
  },
  {
   "cell_type": "code",
   "execution_count": null,
   "metadata": {},
   "outputs": [],
   "source": [
    "class Solution {\n",
    "  public:\n",
    "    // Function returns the second\n",
    "    // largest elements\n",
    "    int getSecondLargest(vector<int> &arr) {\n",
    "        // Code Here\n",
    "    }\n",
    "};"
   ]
  },
  {
   "cell_type": "code",
   "execution_count": null,
   "metadata": {},
   "outputs": [],
   "source": []
  }
 ],
 "metadata": {
  "kernelspec": {
   "display_name": ".venv",
   "language": "python",
   "name": "python3"
  },
  "language_info": {
   "name": "python",
   "version": "3.12.3"
  }
 },
 "nbformat": 4,
 "nbformat_minor": 2
}
