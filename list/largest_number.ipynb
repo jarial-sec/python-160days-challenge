{
 "cells": [
  {
   "cell_type": "markdown",
   "metadata": {},
   "source": [
    "Given an array of positive integers arr[], return the second largest element from the array. If the second largest element doesn't exist then return -1.\n",
    "\n",
    "Note: The second largest element should not be equal to the largest element."
   ]
  },
  {
   "cell_type": "markdown",
   "metadata": {},
   "source": [
    "Input: arr[] = [12, 35, 1, 10, 34, 1]\n",
    "Output: 34\n",
    "Explanation: The largest element of the array is 35 and the second largest element is 34."
   ]
  },
  {
   "cell_type": "markdown",
   "metadata": {},
   "source": [
    "Input: arr[] = [10, 10, 10]\n",
    "Output: -1\n",
    "Explanation: The largest element of the array is 10 and the second largest element does not exist."
   ]
  },
  {
   "cell_type": "code",
   "execution_count": null,
   "metadata": {},
   "outputs": [],
   "source": [
    "arr = [12, 35, 1, 10, 34, 1]\n",
    "\n",
    "\n",
    "# User function Template for python3\n",
    "class Solution:\n",
    "    def getSecondLargest(self, arr):\n",
    "        # Code Here\n",
    "        ar = sorted(set(arr))\n",
    "        if len(ar) > 1:\n",
    "            return ar[-2]\n",
    "        else:\n",
    "            return -1\n",
    "\n",
    "\n",
    "s = Solution()\n",
    "snd = s.getSecondLargest(arr)\n",
    "\n",
    "snd"
   ]
  },
  {
   "cell_type": "code",
   "execution_count": null,
   "metadata": {},
   "outputs": [],
   "source": [
    "arr = [10, 10, 10]\n",
    "\n",
    "\n",
    "# User function Template for python3\n",
    "class Solution:\n",
    "    def getSecondLargest(self, arr):\n",
    "        snd = -1\n",
    "        j = -1\n",
    "        if len(arr) > 1:\n",
    "            for i in range(len(arr)):\n",
    "                if arr[i] > j:\n",
    "                    snd = j\n",
    "                    j = arr[i]\n",
    "                elif snd < arr[i] < j:\n",
    "                    snd = arr[i]\n",
    "            if snd == j:\n",
    "                snd = -1\n",
    "        return snd\n",
    "\n",
    "\n",
    "s = Solution()\n",
    "snd = s.getSecondLargest(arr)\n",
    "\n",
    "snd"
   ]
  },
  {
   "cell_type": "code",
   "execution_count": null,
   "metadata": {},
   "outputs": [],
   "source": []
  }
 ],
 "metadata": {
  "kernelspec": {
   "display_name": ".venv",
   "language": "python",
   "name": "python3"
  },
  "language_info": {
   "codemirror_mode": {
    "name": "ipython",
    "version": 3
   },
   "file_extension": ".py",
   "mimetype": "text/x-python",
   "name": "python",
   "nbconvert_exporter": "python",
   "pygments_lexer": "ipython3",
   "version": "3.12.3"
  }
 },
 "nbformat": 4,
 "nbformat_minor": 2
}
